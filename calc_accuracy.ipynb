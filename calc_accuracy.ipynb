{
  "nbformat": 4,
  "nbformat_minor": 0,
  "metadata": {
    "colab": {
      "name": "calc_accuracy.ipynb",
      "provenance": []
    },
    "kernelspec": {
      "name": "python3",
      "display_name": "Python 3"
    },
    "language_info": {
      "name": "python"
    }
  },
  "cells": [
    {
      "cell_type": "code",
      "execution_count": null,
      "metadata": {
        "id": "OYcoz4G2Ipx8"
      },
      "outputs": [],
      "source": [
        "import numpy as np\n",
        "import math "
      ]
    },
    {
      "cell_type": "code",
      "source": [
        "def get_max_preds(heatmaps):\n",
        "    \"\"\"Get keypoint predictions from score maps.\n",
        "    Note:\n",
        "        batch_size: N\n",
        "        num_keypoints: K\n",
        "        heatmap height: H\n",
        "        heatmap width: W\n",
        "    Args:\n",
        "        heatmaps (np.ndarray[N, K, H, W]): model predicted heatmaps.\n",
        "    Returns:\n",
        "        tuple: A tuple containing aggregated results.\n",
        "        - preds (np.ndarray[N, K, 2]): Predicted keypoint location.\n",
        "        - maxvals (np.ndarray[N, K, 1]): Scores (confidence) of the keypoints.\n",
        "    \"\"\"\n",
        "    assert isinstance(heatmaps,\n",
        "                      np.ndarray), ('heatmaps should be numpy.ndarray')\n",
        "    assert heatmaps.ndim == 4, 'batch_images should be 4-ndim'\n",
        "\n",
        "    N, K, _, W = heatmaps.shape\n",
        "    heatmaps_reshaped = heatmaps.reshape((N, K, -1))\n",
        "    idx = np.argmax(heatmaps_reshaped, 2).reshape((N, K, 1))\n",
        "    maxvals = np.amax(heatmaps_reshaped, 2).reshape((N, K, 1))\n",
        "\n",
        "    preds = np.tile(idx, (1, 1, 2)).astype(np.float32)\n",
        "    preds[:, :, 0] = preds[:, :, 0] % W\n",
        "    preds[:, :, 1] = preds[:, :, 1] // W\n",
        "\n",
        "    preds = np.where(np.tile(maxvals, (1, 1, 2)) > 0.0, preds, -1)\n",
        "    return preds, maxvals\n",
        "\n",
        "def calc_dists(preds, target, normalize, use_zero=False):\n",
        "    preds = preds.astype(np.float32)\n",
        "    target = target.astype(np.float32)\n",
        "    normalize = normalize.astype(np.float32)\n",
        "    dists = np.zeros(preds.size(1), preds.size(0))\n",
        "    if use_zero:\n",
        "        boundary = 0\n",
        "    else:\n",
        "        boundary = 1\n",
        "    for n in range(preds.shape[0]):\n",
        "        for c in range(preds.shape[1]):\n",
        "            if target[n,c,0] > boundary and target[n, c, 1] > boundary:\n",
        "                dists[c, n] = np.linalg.norm((preds[n,c,:]- target[n,c,:])/normalize[n]) # axis ricavato da solo\n",
        "            else:\n",
        "                dists[c, n] = -1\n",
        "    return dists\n",
        "\n",
        "def accuracy(output, target, idkp, thr=0.5):\n",
        "  ''' Calculate accuracy according to PCK, but uses ground truth heatmap rather than x,y locations\n",
        "        First value to be returned is average accuracy across 'idxs', followed by individual accuracies\n",
        "    '''\n",
        "  preds = get_max_preds(output)\n",
        "  gts = get_max_preds(target)\n",
        "  norm = np.ones(preds.shape[0])*output.shape[3]/10\n",
        "\n",
        "  dists = calc_dists(preds, gts, norm)\n",
        "\n",
        "  acc = np.zeros(len(idxs)+1)\n",
        "  avg_acc = 0\n",
        "  cnt = 0\n",
        "\n",
        "  for i in range(len(idxs)):\n",
        "    acc[i+1] = dist_acc(dists[idxs[i]])\n",
        "    if acc[i+1] >= 0: \n",
        "      avg_acc = avg_acc + acc[i+1]\n",
        "      cnt += 1\n",
        "            \n",
        "  if cnt != 0:  \n",
        "    acc[0] = avg_acc / cnt\n",
        "\n",
        "  return acc"
      ],
      "metadata": {
        "id": "x_PinS22JLdw"
      },
      "execution_count": null,
      "outputs": []
    },
    {
      "cell_type": "code",
      "source": [
        ""
      ],
      "metadata": {
        "id": "CeUKaH3EJeZ5"
      },
      "execution_count": null,
      "outputs": []
    }
  ]
}